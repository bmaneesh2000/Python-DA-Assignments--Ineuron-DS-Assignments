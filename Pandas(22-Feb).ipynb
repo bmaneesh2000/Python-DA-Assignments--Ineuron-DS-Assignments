{
 "cells": [
  {
   "cell_type": "code",
   "execution_count": 1,
   "metadata": {},
   "outputs": [
    {
     "name": "stdout",
     "output_type": "stream",
     "text": [
      "0     4\n",
      "1     8\n",
      "2    15\n",
      "3    16\n",
      "4    23\n",
      "5    42\n",
      "dtype: int64\n"
     ]
    }
   ],
   "source": [
    "#1\n",
    "\n",
    "\"\"\" Q1. Create a Pandas Series that contains the following data: 4, 8, 15, 16, 23, and 42. Then, print the series. \"\"\"\n",
    "\n",
    "#Answer\n",
    "\n",
    "import pandas as pd\n",
    "l=[4,8,15,16,23,42]\n",
    "s=pd.Series(l)\n",
    "print(s)\n"
   ]
  },
  {
   "cell_type": "code",
   "execution_count": 2,
   "metadata": {},
   "outputs": [
    {
     "name": "stdout",
     "output_type": "stream",
     "text": [
      "0    0\n",
      "1    1\n",
      "2    2\n",
      "3    3\n",
      "4    4\n",
      "5    5\n",
      "6    6\n",
      "7    7\n",
      "8    8\n",
      "9    9\n",
      "dtype: int64\n"
     ]
    }
   ],
   "source": [
    "#2\n",
    "\n",
    "\"\"\" Q2. Create a variable of list type containing 10 elements in it, and apply pandas.Series function on the\n",
    "variable print it. \"\"\"\n",
    "\n",
    "#Answers\n",
    "\n",
    "import pandas as pd\n",
    "l=[x for x in range(10)]\n",
    "s=pd.Series(l)\n",
    "print(s)\n"
   ]
  },
  {
   "cell_type": "code",
   "execution_count": 13,
   "metadata": {},
   "outputs": [
    {
     "name": "stdout",
     "output_type": "stream",
     "text": [
      "     Name  Age  Gender\n",
      "0   Alice   25  Female\n",
      "1     Bob   30    Male\n",
      "2  Clarie   27  Female\n"
     ]
    }
   ],
   "source": [
    "#3\n",
    "\n",
    "\"\"\" Q3. Create a Pandas DataFrame that contains the following data: Then, print the DataFrame.\n",
    "Name Age Gender\n",
    "Alice 25 Female\n",
    "Bob 30 Male\n",
    "Clarie 27 Female\n",
    "\"\"\"\n",
    "\n",
    "#Answer\n",
    "\n",
    "import pandas as pd\n",
    "d={\n",
    "    \"Name\":[\"Alice\",\"Bob\",\"Clarie\"],\n",
    "    \"Age\":[25,30,27],\n",
    "    \"Gender\":[\"Female\",\"Male\",\"Female\"]\n",
    "}\n",
    "df=pd.DataFrame(d)\n",
    "print(df)"
   ]
  },
  {
   "cell_type": "code",
   "execution_count": 14,
   "metadata": {},
   "outputs": [
    {
     "name": "stdout",
     "output_type": "stream",
     "text": [
      "     Name  Age  Gender\n",
      "0   Alice   25  Female\n",
      "1     Bob   30    Male\n",
      "2  Clarie   27  Female\n"
     ]
    }
   ],
   "source": [
    "#4\n",
    "\n",
    "\"\"\" Q4. What is DataFrame in pandas and how is it different from pandas.series? Explain with an example. \"\"\"\n",
    "\n",
    "#Answer\n",
    "\n",
    "\"\"\" DataFrame: A Pandas DataFrame is a 2 dimensional data structure, like a 2 dimensional array, or a table with rows and columns, \n",
    "where Series is like an one-dimensional array holding data of any type like a column in a table.\n",
    "\"\"\"\n",
    "\n",
    "import pandas as pd\n",
    "d={\n",
    "    \"Name\":[\"Alice\",\"Bob\",\"Clarie\"],\n",
    "    \"Age\":[25,30,27],\n",
    "    \"Gender\":[\"Female\",\"Male\",\"Female\"]\n",
    "}\n",
    "  \n",
    "df=pd.DataFrame(d)\n",
    "print(df)"
   ]
  },
  {
   "cell_type": "code",
   "execution_count": 15,
   "metadata": {},
   "outputs": [
    {
     "name": "stdout",
     "output_type": "stream",
     "text": [
      "     Name  Age  Gender  new col\n",
      "0   Alice   25  Female       20\n",
      "1     Bob   30    Male       44\n",
      "2  Clarie   27  Female       66\n",
      " \n",
      "     Name  Age  Gender  renamed\n",
      "0   Alice   25  Female       20\n",
      "1     Bob   30    Male       44\n",
      "2  Clarie   27  Female       66\n",
      " \n",
      "  Name  new col\n",
      "1  Bob       44\n"
     ]
    }
   ],
   "source": [
    "#5\n",
    "\n",
    "\"\"\" Q5. What are some common functions you can use to manipulate data in a Pandas DataFrame? Can\n",
    "you give an example of when you might use one of these functions? \"\"\"\n",
    "\n",
    "#Answer\n",
    "\n",
    "\"\"\" \n",
    "Creating new colums or rows in the table.\n",
    "Dropping columns or rows in the data.\n",
    "Renaming a column in the dataset.\n",
    "Select columns with specific data types.\n",
    "Slicing the dataset.\n",
    "\"\"\"\n",
    "\n",
    "import pandas as pd\n",
    "d={\n",
    "    \"Name\":[\"Alice\",\"Bob\",\"Clarie\"],\n",
    "    \"Age\":[25,30,27],\n",
    "    \"Gender\":[\"Female\",\"Male\",\"Female\"]\n",
    "}\n",
    "df=pd.DataFrame(d)\n",
    "\n",
    "df[\"new col\"]=[20,44,66]\n",
    "print(df)\n",
    "\n",
    "print(\" \")\n",
    "df2 = df.rename(columns={'new col': 'renamed'})\n",
    "print(df2)\n",
    "\n",
    "print(\" \")\n",
    "print(df[[\"Name\",\"new col\"]][1:2])"
   ]
  },
  {
   "cell_type": "code",
   "execution_count": null,
   "metadata": {},
   "outputs": [],
   "source": [
    "#6\n",
    "\n",
    "\"\"\" Q6. Which of the following is mutable in nature Series, DataFrame, Panel? \"\"\"\n",
    "\n",
    "#Answer\n",
    "\n",
    "\"\"\" All pandas data structures are value-mutable (the values they contain can be altered) but not always size-mutable. \n",
    "The length of a Series cannot be changed, but, for example, columns can be inserted into a DataFrame. \n",
    "However, the vast majority of methods produce new objects and leave the input data untouched. \"\"\""
   ]
  },
  {
   "cell_type": "code",
   "execution_count": 21,
   "metadata": {},
   "outputs": [
    {
     "name": "stdout",
     "output_type": "stream",
     "text": [
      "   one  two  three\n",
      "0  1.0    1      2\n",
      "1  2.0    2      3\n",
      "2  3.0    3      5\n",
      "3  NaN    4      2\n"
     ]
    }
   ],
   "source": [
    "#7\n",
    "\n",
    "\"\"\" Q7. Create a DataFrame using multiple Series. Explain with an example. \"\"\"\n",
    "\n",
    "import pandas as pd\n",
    "\n",
    "d = {'one' : pd.Series([1, 2, 3]),\n",
    "   'two' : pd.Series([1, 2, 3, 4])}\n",
    "\n",
    "df = pd.DataFrame(d)\n",
    "\n",
    "s=[2,3,5,2,4,5]\n",
    "df[\"three\"]=pd.Series(s)\n",
    "\n",
    "print(df)"
   ]
  }
 ],
 "metadata": {
  "kernelspec": {
   "display_name": "base",
   "language": "python",
   "name": "python3"
  },
  "language_info": {
   "codemirror_mode": {
    "name": "ipython",
    "version": 3
   },
   "file_extension": ".py",
   "mimetype": "text/x-python",
   "name": "python",
   "nbconvert_exporter": "python",
   "pygments_lexer": "ipython3",
   "version": "3.9.13"
  },
  "orig_nbformat": 4,
  "vscode": {
   "interpreter": {
    "hash": "f6ee28930b5c77c9b54538a9e3d0ae5d2074831a57586ad209b0c9904ff17401"
   }
  }
 },
 "nbformat": 4,
 "nbformat_minor": 2
}
